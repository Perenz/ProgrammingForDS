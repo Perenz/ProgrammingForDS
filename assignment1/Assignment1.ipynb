{
 "cells": [
  {
   "cell_type": "code",
   "execution_count": null,
   "metadata": {},
   "outputs": [],
   "source": []
  },
  {
   "cell_type": "markdown",
   "metadata": {},
   "source": [
    "# ID2214 Assignment 1 Group no. 15\n",
    "### Project members: \n",
    "[Enter Name, email]\n",
    "[Enter Name, email]\n",
    "[Enter Name, email]\n",
    "[Enter Name, email]\n",
    "\n",
    "### Declaration:\n",
    "By submitting this solution, it is hereby declared that all individuals listed above have contributed to the solution, either with code that appear in the final solution below, or with code that has been evaluated and compared to the final solution, but for some reason has been excluded. It is also declared that all project members fully understand all parts of the final solution and can explain it upon request.\n",
    "\n",
    "It is furthermore declared that the code below is a contribution by the project members only, and specifically that no part of the solution has been copied from any other source (except for lecture slides at the course ID2214/FID3214) and no part of the solution has been provided by someone not listed as project member above.\n",
    "\n",
    "It is furthermore declared that it has been understood that no other library/package than the Python 3 standard library, NumPy and pandas may be used in the solution for this assignment.\n",
    "\n",
    "### Instructions\n",
    "All parts of the assignment starting with number 1 below are mandatory. Satisfactory solutions\n",
    "will give 1 point (in total). If they in addition are good (all parts work more or less \n",
    "as they should), completed on time (submitted before the deadline in Canvas) and according\n",
    "to the instructions, together with satisfactory solutions of all parts of the assignment starting \n",
    "with number 2 below, then the assignment will receive 2 points (in total).\n",
    "\n",
    "Note that you do not have to develop the code directly within the notebook\n",
    "but may instead copy the comments and test cases to a more convenient development environment\n",
    "and when everything works as expected, you may paste your functions into this\n",
    "notebook, do a final testing (all cells should succeed) and submit the whole notebook \n",
    "(a single file) in Canvas (do not forget to fill in your group number and names above)."
   ]
  },
  {
   "cell_type": "markdown",
   "metadata": {},
   "source": [
    "## Load NumPy and pandas"
   ]
  },
  {
   "cell_type": "code",
   "execution_count": 6,
   "metadata": {},
   "outputs": [],
   "source": [
    "import numpy as np\n",
    "import pandas as pd"
   ]
  },
  {
   "cell_type": "markdown",
   "metadata": {},
   "source": [
    "## 1a. Create and apply column filter"
   ]
  },
  {
   "cell_type": "code",
   "execution_count": 65,
   "metadata": {},
   "outputs": [],
   "source": [
    "# Insert the functions create_column_filter and apply_column_filter below (after the comments)\n",
    "#\n",
    "# Input to create_column_filter:\n",
    "# df - a dataframe (where the column names \"CLASS\" and \"ID\" have special meaning)\n",
    "#\n",
    "# Output from create_filter:\n",
    "# df            - a new dataframe, where columns, except \"CLASS\" and \"ID\", containing only missing values \n",
    "#                 or only one unique value (apart from the missing values) have been dropped\n",
    "# column_filter - a list of the names of the remaining columns, including \"CLASS\" and \"ID\"\n",
    "#\n",
    "# Hint 1: First copy the input dataframe and modify the copy (the input dataframe should be kept unchanged)\n",
    "#\n",
    "# Hint 2: Iterate through all columns and consider to drop a column only if it is not labeled \"CLASS\" or \"ID\"\n",
    "#\n",
    "# Hint 3: You may check the number of unique (non-missing) values in a column by applying the pandas functions\n",
    "#         dropna and unique to drop missing values and get the unique (remaining) values\n",
    "#\n",
    "# Input to apply_column_filter:\n",
    "# df            - a dataframe\n",
    "# column_filter - a list of the names of the columns to keep (see above)\n",
    "#\n",
    "# Output from apply_column_filter:\n",
    "# df - a new dataframe, where each column that is not included in column_filter has been dropped\n",
    "#\n",
    "# Hint 1: First copy the input dataframe and modify the copy (the input dataframe should be kept unchanged)"
   ]
  },
  {
   "cell_type": "code",
   "execution_count": 19,
   "metadata": {},
   "outputs": [],
   "source": [
    "def create_column_filter(df): \n",
    "    exempt = [\"CLASS\"]\n",
    "    col_filter = exempt.copy()\n",
    "    for col in df.columns: \n",
    "        if col not in exempt: \n",
    "            if (not df[col].isnull().values.all()) and (df[col].nunique() > 1): \n",
    "                col_filter.append(col)\n",
    "    filtered = df.copy()\n",
    "    filtered = filtered.loc[:, col_filter]\n",
    "    return filtered, col_filter\n",
    "\n",
    "\n",
    "def apply_column_filter(df ,column_filter): \n",
    "    filtered = df.copy()\n",
    "    return filtered.loc[:, column_filter]\n",
    "\n"
   ]
  },
  {
   "cell_type": "code",
   "execution_count": 20,
   "metadata": {},
   "outputs": [
    {
     "data": {
      "text/plain": "'df'"
     },
     "metadata": {},
     "output_type": "display_data"
    },
    {
     "data": {
      "text/html": "<div>\n<style scoped>\n    .dataframe tbody tr th:only-of-type {\n        vertical-align: middle;\n    }\n\n    .dataframe tbody tr th {\n        vertical-align: top;\n    }\n\n    .dataframe thead th {\n        text-align: right;\n    }\n</style>\n<table border=\"1\" class=\"dataframe\">\n  <thead>\n    <tr style=\"text-align: right;\">\n      <th></th>\n      <th>CLASS</th>\n      <th>A</th>\n      <th>B</th>\n      <th>C</th>\n      <th>D</th>\n    </tr>\n  </thead>\n  <tbody>\n    <tr>\n      <th>0</th>\n      <td>1</td>\n      <td>1.0</td>\n      <td>1.0</td>\n      <td>h</td>\n      <td>NaN</td>\n    </tr>\n    <tr>\n      <th>1</th>\n      <td>0</td>\n      <td>2.0</td>\n      <td>1.0</td>\n      <td>h</td>\n      <td>NaN</td>\n    </tr>\n    <tr>\n      <th>2</th>\n      <td>1</td>\n      <td>NaN</td>\n      <td>1.0</td>\n      <td>NaN</td>\n      <td>NaN</td>\n    </tr>\n    <tr>\n      <th>3</th>\n      <td>0</td>\n      <td>4.0</td>\n      <td>1.0</td>\n      <td>i</td>\n      <td>NaN</td>\n    </tr>\n    <tr>\n      <th>4</th>\n      <td>1</td>\n      <td>5.0</td>\n      <td>NaN</td>\n      <td>h</td>\n      <td>NaN</td>\n    </tr>\n  </tbody>\n</table>\n</div>",
      "text/plain": "   CLASS    A    B    C   D\n0      1  1.0  1.0    h NaN\n1      0  2.0  1.0    h NaN\n2      1  NaN  1.0  NaN NaN\n3      0  4.0  1.0    i NaN\n4      1  5.0  NaN    h NaN"
     },
     "metadata": {},
     "output_type": "display_data"
    },
    {
     "data": {
      "text/plain": "'filtered_df'"
     },
     "metadata": {},
     "output_type": "display_data"
    },
    {
     "data": {
      "text/html": "<div>\n<style scoped>\n    .dataframe tbody tr th:only-of-type {\n        vertical-align: middle;\n    }\n\n    .dataframe tbody tr th {\n        vertical-align: top;\n    }\n\n    .dataframe thead th {\n        text-align: right;\n    }\n</style>\n<table border=\"1\" class=\"dataframe\">\n  <thead>\n    <tr style=\"text-align: right;\">\n      <th></th>\n      <th>CLASS</th>\n      <th>A</th>\n      <th>C</th>\n    </tr>\n  </thead>\n  <tbody>\n    <tr>\n      <th>0</th>\n      <td>1</td>\n      <td>1.0</td>\n      <td>h</td>\n    </tr>\n    <tr>\n      <th>1</th>\n      <td>0</td>\n      <td>2.0</td>\n      <td>h</td>\n    </tr>\n    <tr>\n      <th>2</th>\n      <td>1</td>\n      <td>NaN</td>\n      <td>NaN</td>\n    </tr>\n    <tr>\n      <th>3</th>\n      <td>0</td>\n      <td>4.0</td>\n      <td>i</td>\n    </tr>\n    <tr>\n      <th>4</th>\n      <td>1</td>\n      <td>5.0</td>\n      <td>h</td>\n    </tr>\n  </tbody>\n</table>\n</div>",
      "text/plain": "   CLASS    A    C\n0      1  1.0    h\n1      0  2.0    h\n2      1  NaN  NaN\n3      0  4.0    i\n4      1  5.0    h"
     },
     "metadata": {},
     "output_type": "display_data"
    },
    {
     "data": {
      "text/plain": "'new_df'"
     },
     "metadata": {},
     "output_type": "display_data"
    },
    {
     "data": {
      "text/html": "<div>\n<style scoped>\n    .dataframe tbody tr th:only-of-type {\n        vertical-align: middle;\n    }\n\n    .dataframe tbody tr th {\n        vertical-align: top;\n    }\n\n    .dataframe thead th {\n        text-align: right;\n    }\n</style>\n<table border=\"1\" class=\"dataframe\">\n  <thead>\n    <tr style=\"text-align: right;\">\n      <th></th>\n      <th>CLASS</th>\n      <th>A</th>\n      <th>B</th>\n      <th>C</th>\n      <th>D</th>\n    </tr>\n  </thead>\n  <tbody>\n    <tr>\n      <th>0</th>\n      <td>1</td>\n      <td>4</td>\n      <td>1</td>\n      <td>NaN</td>\n      <td>NaN</td>\n    </tr>\n    <tr>\n      <th>1</th>\n      <td>0</td>\n      <td>5</td>\n      <td>2</td>\n      <td>NaN</td>\n      <td>4.0</td>\n    </tr>\n    <tr>\n      <th>2</th>\n      <td>0</td>\n      <td>6</td>\n      <td>1</td>\n      <td>NaN</td>\n      <td>5.0</td>\n    </tr>\n  </tbody>\n</table>\n</div>",
      "text/plain": "   CLASS  A  B   C    D\n0      1  4  1 NaN  NaN\n1      0  5  2 NaN  4.0\n2      0  6  1 NaN  5.0"
     },
     "metadata": {},
     "output_type": "display_data"
    },
    {
     "data": {
      "text/plain": "'filtered_new_df'"
     },
     "metadata": {},
     "output_type": "display_data"
    },
    {
     "data": {
      "text/html": "<div>\n<style scoped>\n    .dataframe tbody tr th:only-of-type {\n        vertical-align: middle;\n    }\n\n    .dataframe tbody tr th {\n        vertical-align: top;\n    }\n\n    .dataframe thead th {\n        text-align: right;\n    }\n</style>\n<table border=\"1\" class=\"dataframe\">\n  <thead>\n    <tr style=\"text-align: right;\">\n      <th></th>\n      <th>CLASS</th>\n      <th>A</th>\n      <th>C</th>\n    </tr>\n  </thead>\n  <tbody>\n    <tr>\n      <th>0</th>\n      <td>1</td>\n      <td>4</td>\n      <td>NaN</td>\n    </tr>\n    <tr>\n      <th>1</th>\n      <td>0</td>\n      <td>5</td>\n      <td>NaN</td>\n    </tr>\n    <tr>\n      <th>2</th>\n      <td>0</td>\n      <td>6</td>\n      <td>NaN</td>\n    </tr>\n  </tbody>\n</table>\n</div>",
      "text/plain": "   CLASS  A   C\n0      1  4 NaN\n1      0  5 NaN\n2      0  6 NaN"
     },
     "metadata": {},
     "output_type": "display_data"
    }
   ],
   "source": [
    "# Test your code (leave this part unchanged)\n",
    "\n",
    "df = pd.DataFrame({\"CLASS\":[1,0,1,0,1],\"A\":[1,2,np.nan,4,5],\"B\":[1,1,1,1,np.nan],\"C\":[\"h\",\"h\",np.nan,\"i\",\"h\"],\"D\":[np.nan,np.nan,np.nan,np.nan,np.nan]})\n",
    "\n",
    "filtered_df, column_filter = create_column_filter(df)\n",
    "\n",
    "new_df = pd.DataFrame({\"CLASS\":[1,0,0],\"A\":[4,5,6],\"B\":[1,2,1],\"C\":[np.nan,np.nan,np.nan],\"D\":[np.nan,4,5]})\n",
    "\n",
    "filtered_new_df = apply_column_filter(new_df,column_filter)\n",
    "\n",
    "display(\"df\",df)\n",
    "display(\"filtered_df\",filtered_df)\n",
    "display(\"new_df\",new_df)\n",
    "display(\"filtered_new_df\",filtered_new_df)"
   ]
  },
  {
   "cell_type": "markdown",
   "metadata": {},
   "source": [
    "## 1b. Create and apply normalization"
   ]
  },
  {
   "cell_type": "code",
   "execution_count": 4,
   "metadata": {},
   "outputs": [],
   "source": [
    "# Insert the functions create_normalization and apply_normalization below (after the comments)\n",
    "#\n",
    "# Input to create_normalization:\n",
    "# df: a dataframe (where the column names \"CLASS\" and \"ID\" have special meaning)\n",
    "# normalizationtype: \"minmax\" (default) or \"zscore\"\n",
    "#\n",
    "# Output from create_normalization:\n",
    "# df            - a new dataframe, where each numeric value in a column has been replaced by a normalized value\n",
    "# normalization - a mapping (dictionary) from each column name to a triple, consisting of\n",
    "#                (\"minmax\",min_value,max_value) or (\"zscore\",mean,std)\n",
    "#\n",
    "# Hint 1: First copy the input dataframe and modify the copy (the input dataframe should be kept unchanged)\n",
    "#\n",
    "# Hint 2: Consider columns of type \"float\" or \"int\" only (and which are not labeled \"CLASS\" or \"ID\"),\n",
    "#         the other columns should remain unchanged\n",
    "#\n",
    "# Hint 3: Take a close look at the lecture slides on data preparation\n",
    "#\n",
    "# Input to apply_normalization:\n",
    "# df            - a dataframe\n",
    "# normalization - a mapping (dictionary) from column names to triples (see above)\n",
    "#\n",
    "# Output from apply_normalization:\n",
    "# df - a new dataframe, where each numerical value has been normalized according to the mapping\n",
    "#\n",
    "# Hint 1: First copy the input dataframe and modify the copy (the input dataframe should be kept unchanged)\n",
    "#\n",
    "# Hint 2: For minmax-normalization, you may consider to limit the output range to [0,1]\n",
    "\n"
   ]
  },
  {
   "cell_type": "code",
   "execution_count": 40,
   "metadata": {},
   "outputs": [],
   "source": [
    "def create_normalization(df, normalizationtype): \n",
    "    normalised = df.copy()\n",
    "    exempt = [\"ID\", \"CLASS\"]\n",
    "    normalised_mapping = {}\n",
    "    print(normalised_mapping)\n",
    "    \n",
    "    for col in normalised.columns: \n",
    "        if col not in exempt and (normalised[col].dtype == \"int64\" or normalised[col].dtype == \"float64\"): \n",
    "            if normalizationtype == \"minmax\": \n",
    "                min_value = normalised[col].min()\n",
    "                max_value = normalised[col].max()\n",
    "                normalised_mapping[col] = (\"minmax\", min_value, max_value)\n",
    "\n",
    "                #normalise using minmax\n",
    "                normalised[col] = [(x-min_value)/(max_value-min_value) for x in normalised[col]]\n",
    "\n",
    "            else: \n",
    "                mean_value = normalised[col].mean()\n",
    "                std_value = normalised[col].std()\n",
    "                normalised_mapping[col] = (\"zscore\", mean_value, std_value)\n",
    "\n",
    "                #normalise using zscore\n",
    "                normalised[col]= normalised[col].apply(lambda x: (x-mean_value)/std_value)\n",
    "    \n",
    "    return normalised, normalised_mapping\n",
    "    \n",
    "def apply_normalization(df, normalisation): \n",
    "    exempt = [\"ID\", \"CLASS\"]\n",
    "    normalised = df.copy()\n",
    "    for col in normalised.columns: \n",
    "        if col not in exempt and (normalised[col].dtype == \"int64\" or normalised[col].dtype == \"float64\"): \n",
    "            values = normalisation[col]\n",
    "            normal_type = values[0]\n",
    "            if normal_type == \"minmax\":\n",
    "                min_value = values[1]\n",
    "                max_value = values[2]\n",
    "\n",
    "                #normalise using minmax\n",
    "                value = [(x-min_value)/(max_value-min_value) for x in normalised[col]]\n",
    "                for v in range(0, len(value)):\n",
    "                    if value[v] > 1: \n",
    "                        value[v] = 1 \n",
    "                    elif value[v] < 0: \n",
    "                        value[v] = 0\n",
    "                normalised[col] = value\n",
    "\n",
    "            else: \n",
    "                mean_value = values[1]\n",
    "                std_value = values[2]\n",
    "                #normalise using zscore\n",
    "                normalised[col]= normalised[col].apply(lambda x: (x-mean_value)/std_value)\n",
    "    return normalised\n",
    "            \n",
    "        \n",
    "\n"
   ]
  },
  {
   "cell_type": "code",
   "execution_count": 42,
   "metadata": {},
   "outputs": [
    {
     "name": "stdout",
     "output_type": "stream",
     "text": "{}\nnormalization:\n\nRI:('minmax', 1.51131, 1.53125)\nNa:('minmax', 10.73, 15.79)\nMg:('minmax', 0.0, 4.49)\nAl:('minmax', 0.29, 3.04)\nSi:('minmax', 69.81, 75.18)\nK:('minmax', 0.0, 6.21)\nCa:('minmax', 5.43, 14.68)\nBa:('minmax', 0.0, 3.15)\nFe:('minmax', 0.0, 0.37)\nminmax\nminmax\nminmax\nminmax\nminmax\nminmax\nminmax\nminmax\nminmax\n"
    },
    {
     "data": {
      "text/plain": "'glass_test_norm'"
     },
     "metadata": {},
     "output_type": "display_data"
    },
    {
     "data": {
      "text/html": "<div>\n<style scoped>\n    .dataframe tbody tr th:only-of-type {\n        vertical-align: middle;\n    }\n\n    .dataframe tbody tr th {\n        vertical-align: top;\n    }\n\n    .dataframe thead th {\n        text-align: right;\n    }\n</style>\n<table border=\"1\" class=\"dataframe\">\n  <thead>\n    <tr style=\"text-align: right;\">\n      <th></th>\n      <th>ID</th>\n      <th>RI</th>\n      <th>Na</th>\n      <th>Mg</th>\n      <th>Al</th>\n      <th>Si</th>\n      <th>K</th>\n      <th>Ca</th>\n      <th>Ba</th>\n      <th>Fe</th>\n      <th>CLASS</th>\n    </tr>\n  </thead>\n  <tbody>\n    <tr>\n      <th>0</th>\n      <td>101</td>\n      <td>0.262788</td>\n      <td>0.399209</td>\n      <td>0.634744</td>\n      <td>0.418182</td>\n      <td>0.644320</td>\n      <td>0.091787</td>\n      <td>0.363243</td>\n      <td>0.034921</td>\n      <td>0.594595</td>\n      <td>2</td>\n    </tr>\n    <tr>\n      <th>1</th>\n      <td>104</td>\n      <td>0.799398</td>\n      <td>0.606719</td>\n      <td>0.701559</td>\n      <td>0.134545</td>\n      <td>0.141527</td>\n      <td>0.012882</td>\n      <td>0.671351</td>\n      <td>0.000000</td>\n      <td>0.000000</td>\n      <td>2</td>\n    </tr>\n    <tr>\n      <th>2</th>\n      <td>44</td>\n      <td>0.541123</td>\n      <td>0.592885</td>\n      <td>0.855234</td>\n      <td>0.156364</td>\n      <td>0.363128</td>\n      <td>0.027375</td>\n      <td>0.465946</td>\n      <td>0.000000</td>\n      <td>0.000000</td>\n      <td>1</td>\n    </tr>\n    <tr>\n      <th>3</th>\n      <td>17</td>\n      <td>0.327482</td>\n      <td>0.385375</td>\n      <td>0.817372</td>\n      <td>0.316364</td>\n      <td>0.614525</td>\n      <td>0.098229</td>\n      <td>0.353514</td>\n      <td>0.000000</td>\n      <td>0.000000</td>\n      <td>1</td>\n    </tr>\n    <tr>\n      <th>4</th>\n      <td>81</td>\n      <td>0.231194</td>\n      <td>0.420949</td>\n      <td>0.783964</td>\n      <td>0.665455</td>\n      <td>0.530726</td>\n      <td>0.111111</td>\n      <td>0.274595</td>\n      <td>0.000000</td>\n      <td>0.000000</td>\n      <td>2</td>\n    </tr>\n    <tr>\n      <th>...</th>\n      <td>...</td>\n      <td>...</td>\n      <td>...</td>\n      <td>...</td>\n      <td>...</td>\n      <td>...</td>\n      <td>...</td>\n      <td>...</td>\n      <td>...</td>\n      <td>...</td>\n      <td>...</td>\n    </tr>\n    <tr>\n      <th>102</th>\n      <td>80</td>\n      <td>0.230191</td>\n      <td>0.413043</td>\n      <td>0.783964</td>\n      <td>0.585455</td>\n      <td>0.567970</td>\n      <td>0.111111</td>\n      <td>0.274595</td>\n      <td>0.000000</td>\n      <td>0.000000</td>\n      <td>2</td>\n    </tr>\n    <tr>\n      <th>103</th>\n      <td>141</td>\n      <td>0.280341</td>\n      <td>0.513834</td>\n      <td>0.788419</td>\n      <td>0.480000</td>\n      <td>0.508380</td>\n      <td>0.109501</td>\n      <td>0.289730</td>\n      <td>0.000000</td>\n      <td>0.000000</td>\n      <td>2</td>\n    </tr>\n    <tr>\n      <th>104</th>\n      <td>14</td>\n      <td>0.309428</td>\n      <td>0.420949</td>\n      <td>0.792873</td>\n      <td>0.356364</td>\n      <td>0.633147</td>\n      <td>0.086957</td>\n      <td>0.318919</td>\n      <td>0.000000</td>\n      <td>0.459459</td>\n      <td>1</td>\n    </tr>\n    <tr>\n      <th>105</th>\n      <td>132</td>\n      <td>0.743731</td>\n      <td>0.586957</td>\n      <td>0.000000</td>\n      <td>0.389091</td>\n      <td>0.266294</td>\n      <td>0.030596</td>\n      <td>0.865946</td>\n      <td>0.000000</td>\n      <td>0.270270</td>\n      <td>2</td>\n    </tr>\n    <tr>\n      <th>106</th>\n      <td>102</td>\n      <td>0.300401</td>\n      <td>0.320158</td>\n      <td>0.605791</td>\n      <td>0.487273</td>\n      <td>0.569832</td>\n      <td>0.112721</td>\n      <td>0.410811</td>\n      <td>0.000000</td>\n      <td>0.000000</td>\n      <td>2</td>\n    </tr>\n  </tbody>\n</table>\n<p>107 rows × 11 columns</p>\n</div>",
      "text/plain": "      ID        RI        Na        Mg        Al        Si         K  \\\n0    101  0.262788  0.399209  0.634744  0.418182  0.644320  0.091787   \n1    104  0.799398  0.606719  0.701559  0.134545  0.141527  0.012882   \n2     44  0.541123  0.592885  0.855234  0.156364  0.363128  0.027375   \n3     17  0.327482  0.385375  0.817372  0.316364  0.614525  0.098229   \n4     81  0.231194  0.420949  0.783964  0.665455  0.530726  0.111111   \n..   ...       ...       ...       ...       ...       ...       ...   \n102   80  0.230191  0.413043  0.783964  0.585455  0.567970  0.111111   \n103  141  0.280341  0.513834  0.788419  0.480000  0.508380  0.109501   \n104   14  0.309428  0.420949  0.792873  0.356364  0.633147  0.086957   \n105  132  0.743731  0.586957  0.000000  0.389091  0.266294  0.030596   \n106  102  0.300401  0.320158  0.605791  0.487273  0.569832  0.112721   \n\n           Ca        Ba        Fe  CLASS  \n0    0.363243  0.034921  0.594595      2  \n1    0.671351  0.000000  0.000000      2  \n2    0.465946  0.000000  0.000000      1  \n3    0.353514  0.000000  0.000000      1  \n4    0.274595  0.000000  0.000000      2  \n..        ...       ...       ...    ...  \n102  0.274595  0.000000  0.000000      2  \n103  0.289730  0.000000  0.000000      2  \n104  0.318919  0.000000  0.459459      1  \n105  0.865946  0.000000  0.270270      2  \n106  0.410811  0.000000  0.000000      2  \n\n[107 rows x 11 columns]"
     },
     "metadata": {},
     "output_type": "display_data"
    }
   ],
   "source": [
    "# Test your code (leave this part unchanged)\n",
    "\n",
    "glass_train_df = pd.read_csv(\"glass_train.csv\")\n",
    "\n",
    "glass_test_df = pd.read_csv(\"glass_test.csv\")\n",
    "\n",
    "glass_train_norm, normalization = create_normalization(glass_train_df,normalizationtype=\"minmax\")\n",
    "print(\"normalization:\\n\")\n",
    "for f in normalization:\n",
    "    print(\"{}:{}\".format(f,normalization[f]))\n",
    "glass_test_norm = apply_normalization(glass_test_df,normalization)\n",
    "display(\"glass_test_norm\",glass_test_norm)"
   ]
  },
  {
   "cell_type": "markdown",
   "metadata": {},
   "source": [
    "### Comment on assumptions, things that do not work properly, etc.\n"
   ]
  },
  {
   "cell_type": "markdown",
   "metadata": {},
   "source": [
    "## 1c. Create and apply imputation"
   ]
  },
  {
   "cell_type": "code",
   "execution_count": 6,
   "metadata": {},
   "outputs": [],
   "source": [
    "# Insert the functions create_imputation and apply_imputation below (after the comments)\n",
    "#\n",
    "# Input to create_imputation:\n",
    "# df: a dataframe (where the column names \"CLASS\" and \"ID\" have special meaning)\n",
    "#\n",
    "# Output from create_imputation:\n",
    "# df         - a new dataframe, where each missing numeric value in a column has been replaced by the mean of that column \n",
    "#              and each missing categoric value in a column has been replaced by the mode of that column\n",
    "# imputation - a mapping (dictionary) from column name to value that has replaced missing values\n",
    "#\n",
    "# Hint 1: First copy the input dataframe and modify the copy (the input dataframe should be kept unchanged)\n",
    "#\n",
    "# Hint 2: Handle columns of type \"float\" or \"int\" only (and which are not labeled \"CLASS\" or \"ID\") in one way\n",
    "#         and columns of type \"object\" and \"category\" in other ways\n",
    "#\n",
    "# Hint 3: Consider using the pandas functions mean and mode respectively, as well as fillna\n",
    "#\n",
    "# Hint 4: In the rare case of all values in a column being missing*, replace numeric values with 0,\n",
    "#         object values with \"\" and category values with the first category (cat.categories[0])  \n",
    "#\n",
    "#         *Note that this will not occur if the previous column filter function has been applied\n",
    "#\n",
    "# Input to apply_imputation:\n",
    "# df         - a dataframe\n",
    "# imputation - a mapping (dictionary) from column name to value that should replace missing values\n",
    "#\n",
    "# Output from apply_imputation:\n",
    "# df - a new dataframe, where each missing value has been replaced according to the mapping\n",
    "#\n",
    "# Hint 1: First copy the input dataframe and modify the copy (the input dataframe should be kept unchanged)\n",
    "#\n",
    "# Hint 2: Consider using fillna\n",
    "\n"
   ]
  },
  {
   "cell_type": "code",
   "execution_count": 51,
   "metadata": {},
   "outputs": [],
   "source": [
    "def create_imputation(df): \n",
    "    exempt = [\"ID\", \"CLASS\"]\n",
    "    imputation_df = df.copy()\n",
    "    imputation = {col: \"\" for col in imputation_df.columns if col not in exempt}\n",
    "    for col in imputation_df.columns: \n",
    "        if col not in exempt: \n",
    "            if imputation_df[col].dtype == \"int64\" or imputation_df[col].dtype == \"float64\": \n",
    "                \n",
    "                mean_value = imputation_df[col].mean()\n",
    "                imputation[col] = mean_value\n",
    "               \n",
    "                #impute values\n",
    "                imputation_df[col].fillna(mean_value)\n",
    "            else: \n",
    "                mode_value = imputation_df[col].mode()\n",
    "                mode_value = str(mode_value)\n",
    "                print(mode_value)\n",
    "                imputation[col] = mode_value\n",
    "\n",
    "                #impute value \n",
    "                imputation_df[col].fillna(mode_value)\n",
    "\n",
    "    return imputation_df, imputation\n",
    "    \n",
    "def apply_imputation(df, imputation): \n",
    "    exempt = [\"ID\", \"CLASS\"]\n",
    "    imputation_df = df.copy()\n",
    "    for col in imputation_df.columns: \n",
    "        if col not in exempt: \n",
    "            imputation_df[col].fillna(imputation[col])\n",
    "\n",
    "    return imputation_df"
   ]
  },
  {
   "cell_type": "code",
   "execution_count": 52,
   "metadata": {},
   "outputs": [
    {
     "name": "stdout",
     "output_type": "stream",
     "text": "0    TN\ndtype: object\n0    C\ndtype: object\n0    A\ndtype: object\n0    T\ndtype: object\n0    S\ndtype: object\n0    N\ndtype: object\n0    P\ndtype: object\n0    E\ndtype: object\n0    Y\ndtype: object\n0    Y\ndtype: object\n0    Y\ndtype: object\n0    B\ndtype: object\n0    Y\ndtype: object\n0    C\ndtype: object\n0    P\ndtype: object\n0    Y\ndtype: object\n0    Y\ndtype: object\n0    B\ndtype: object\n0    Y\ndtype: object\n0    SHEET\ndtype: object\n0    Y\ndtype: object\nImputation:\n\nfamily:0    TN\ndtype: object\nproduct-type:0    C\ndtype: object\nsteel:0    A\ndtype: object\ncarbon:3.859688195991091\nhardness:13.084632516703786\ntemper_rolling:0    T\ndtype: object\ncondition:0    S\ndtype: object\nformability:2.2517482517482517\nstrength:26.302895322939868\nnon-ageing:0    N\ndtype: object\nsurface-finish:0    P\ndtype: object\nsurface-quality:0    E\ndtype: object\nenamelability:1.7142857142857142\nbc:0    Y\ndtype: object\nbf:0    Y\ndtype: object\nbt:0    Y\ndtype: object\nbw/me:0    B\ndtype: object\nbl:0    Y\ndtype: object\nm:nan\nchrom:0    C\ndtype: object\nphos:0    P\ndtype: object\ncbond:0    Y\ndtype: object\nmarvi:nan\nexptl:nan\nferro:0    Y\ndtype: object\ncorr:nan\nblue-bright-varn-clean:0    B\ndtype: object\nlustre:0    Y\ndtype: object\njurofm:nan\ns:nan\np:nan\nshape:0    SHEET\ndtype: object\nthick:1.1911937639198218\nwidth:769.4917594654788\nlen:1229.293986636971\noil:0    Y\ndtype: object\nbore:35.18930957683742\npacking:3.0\n\nNo. of replaced missing values in training data:\nfamily                    0\nproduct-type              0\nsteel                     0\ncarbon                    0\nhardness                  0\ntemper_rolling            0\ncondition                 0\nformability               0\nstrength                  0\nnon-ageing                0\nsurface-finish            0\nsurface-quality           0\nenamelability             0\nbc                        0\nbf                        0\nbt                        0\nbw/me                     0\nbl                        0\nm                         0\nchrom                     0\nphos                      0\ncbond                     0\nmarvi                     0\nexptl                     0\nferro                     0\ncorr                      0\nblue-bright-varn-clean    0\nlustre                    0\njurofm                    0\ns                         0\np                         0\nshape                     0\nthick                     0\nwidth                     0\nlen                       0\noil                       0\nbore                      0\npacking                   0\nCLASS                     0\ndtype: int64\n\nNo. of replaced missing values in test data:\nfamily                    0\nproduct-type              0\nsteel                     0\ncarbon                    0\nhardness                  0\ntemper_rolling            0\ncondition                 0\nformability               0\nstrength                  0\nnon-ageing                0\nsurface-finish            0\nsurface-quality           0\nenamelability             0\nbc                        0\nbf                        0\nbt                        0\nbw/me                     0\nbl                        0\nm                         0\nchrom                     0\nphos                      0\ncbond                     0\nmarvi                     0\nexptl                     0\nferro                     0\ncorr                      0\nblue-bright-varn-clean    0\nlustre                    0\njurofm                    0\ns                         0\np                         0\nshape                     0\nthick                     0\nwidth                     0\nlen                       0\noil                       0\nbore                      0\npacking                   0\nCLASS                     0\ndtype: int64\n"
    }
   ],
   "source": [
    "# Test your code (leave this part unchanged)\n",
    "\n",
    "anneal_train_df = pd.read_csv(\"anneal_train.csv\")\n",
    "anneal_test_df = pd.read_csv(\"anneal_test.csv\")\n",
    "\n",
    "anneal_train_imp, imputation = create_imputation(anneal_train_df)\n",
    "anneal_test_imp = apply_imputation(anneal_test_df,imputation)\n",
    "\n",
    "print(\"Imputation:\\n\")\n",
    "for f in imputation:\n",
    "    print(\"{}:{}\".format(f,imputation[f]))\n",
    "\n",
    "print(\"\\nNo. of replaced missing values in training data:\\n{}\".format(anneal_train_imp.count()-anneal_train_df.count()))\n",
    "print(\"\\nNo. of replaced missing values in test data:\\n{}\".format(anneal_test_imp.count()-anneal_test_df.count()))"
   ]
  },
  {
   "cell_type": "markdown",
   "metadata": {},
   "source": [
    "### Comment on assumptions, things that do not work properly, etc."
   ]
  },
  {
   "cell_type": "markdown",
   "metadata": {},
   "source": [
    "## 1d. Create and apply discretization"
   ]
  },
  {
   "cell_type": "code",
   "execution_count": 8,
   "metadata": {},
   "outputs": [],
   "source": [
    "# Insert the functions create_bins and apply_bins below\n",
    "#\n",
    "# Input to create_bins:\n",
    "# df      - a dataframe\n",
    "# nobins  - no. of bins (default = 10)\n",
    "# bintype - either \"equal-width\" (default) or \"equal-size\" \n",
    "#\n",
    "# Output from create_bins:\n",
    "# df      - a new dataframe, where each numeric feature value has been replaced by a categoric (corresponding to some bin)\n",
    "# binning - a mapping (dictionary) from column name to bins (threshold values for the bin)\n",
    "#\n",
    "# Hint 1: First copy the input dataframe and modify the copy (the input dataframe should be kept unchanged)\n",
    "#\n",
    "# Hint 2: Discretize columns of type \"float\" or \"int\" only (and which are not labeled \"CLASS\" or \"ID\")\n",
    "#\n",
    "# Hint 3: Consider using pd.cut and pd.qcut respectively, with labels=False and retbins=True\n",
    "#\n",
    "# Hint 4: Set all columns in the new dataframe to be of type \"category\"\n",
    "#\n",
    "# Hint 5: Set the categories of the discretized features to be [0,...,nobins-1]\n",
    "#\n",
    "# Hint 6: Change the first and the last element of each binning to -np.inf and np.inf respectively \n",
    "#\n",
    "# Input to apply_bins:\n",
    "# df      - a dataframe\n",
    "# binning - a mapping (dictionary) from column name to bins (threshold values for the bin)\n",
    "#\n",
    "# Output from apply_bins:\n",
    "# df - a new dataframe, where each numeric feature value has been replaced by a categoric (corresponding to some bin)\n",
    "#\n",
    "# Hint 1: First copy the input dataframe and modify the copy (the input dataframe should be kept unchanged)\n",
    "#\n",
    "# Hint 2: Consider using pd.cut \n",
    "#\n",
    "# Hint 3: Set all columns in the new dataframe to be of type \"category\"\n",
    "#\n",
    "# Hint 4: Set the categories of the discretized features to be [0,...,nobins-1]\n",
    "\n"
   ]
  },
  {
   "cell_type": "code",
   "execution_count": 60,
   "metadata": {},
   "outputs": [],
   "source": [
    "def create_bins(df, bintype, nobins = 10): \n",
    "    binned_df = df.copy()\n",
    "    binning = \"\"\n",
    "    exempt = [\"ID\", \"CLASS\"]\n",
    "    binning = {col: \"\" for col in binned_df.columns if col not in exempt}\n",
    "    labels = np.arange(0, nobins, 1)\n",
    "\n",
    "    for col in binned_df.columns: \n",
    "        if col not in exempt: \n",
    "            if binned_df[col].dtype == \"int64\" or binned_df[col].dtype == \"float64\": \n",
    "                if bintype == \"equal-width\": \n",
    "                    binned_df[col], bins = pd.cut(binned_df[col],nobins,retbins=True, labels=labels)\n",
    "                    binned_df[col] = binned_df[col].astype('category')\n",
    "                    \n",
    "                    #binning dictionary\n",
    "                    bins[0] = -np.inf\n",
    "                   \n",
    "\n",
    "                else: \n",
    "                    binned_df[col], bins = pd.qcut(binned_df[col],nobins,retbins=True, labels=labels)\n",
    "                    binned_df[col] = binned_df[col].astype('category')\n",
    "                    binning[col] = bins\n",
    "\n",
    "                    #binning dictionadry\n",
    "                    binning[col] = bins\n",
    "                \n",
    "                #infinity edges\n",
    "                bins[-1] = np.inf\n",
    "                binning[col] = bins\n",
    "\n",
    "    return binned_df, binning\n",
    "\n",
    "def apply_bins(df, binning): \n",
    "    exempt = [\"ID\", \"CLASS\"]\n",
    "    binned_df = df.copy()\n",
    "    for col in binned_df.columns: \n",
    "        if col not in exempt: \n",
    "            if binned_df[col].dtype == \"int64\" or binned_df[col].dtype == \"float64\": \n",
    "                bins = binning[col]\n",
    "                bin_length = len(bins) - 1\n",
    "                labels = np.arange(0, bin_length, 1)\n",
    "                binned_df[col] = pd.cut(binned_df[col], bins, labels=labels)\n",
    "                binned_df[col] = binned_df[col].astype('category')\n",
    "    return binned_df \n"
   ]
  },
  {
   "cell_type": "code",
   "execution_count": 61,
   "metadata": {},
   "outputs": [
    {
     "ename": "ValueError",
     "evalue": "Bin edges must be unique: array([0.   , 0.   , 0.   , 1.82 , 3.188, 3.41 , 3.476, 3.55 , 3.61 ,\n       3.728, 4.49 ]).\nYou can drop duplicate edges by setting the 'duplicates' kwarg",
     "output_type": "error",
     "traceback": [
      "\u001b[0;31m---------------------------------------------------------------------------\u001b[0m",
      "\u001b[0;31mValueError\u001b[0m                                Traceback (most recent call last)",
      "\u001b[0;32m<ipython-input-61-cd329984a475>\u001b[0m in \u001b[0;36m<module>\u001b[0;34m\u001b[0m\n\u001b[1;32m      5\u001b[0m \u001b[0mglass_test_df\u001b[0m \u001b[0;34m=\u001b[0m \u001b[0mpd\u001b[0m\u001b[0;34m.\u001b[0m\u001b[0mread_csv\u001b[0m\u001b[0;34m(\u001b[0m\u001b[0;34m\"glass_test.csv\"\u001b[0m\u001b[0;34m)\u001b[0m\u001b[0;34m\u001b[0m\u001b[0;34m\u001b[0m\u001b[0m\n\u001b[1;32m      6\u001b[0m \u001b[0;34m\u001b[0m\u001b[0m\n\u001b[0;32m----> 7\u001b[0;31m \u001b[0mglass_train_disc\u001b[0m\u001b[0;34m,\u001b[0m \u001b[0mbinning\u001b[0m \u001b[0;34m=\u001b[0m \u001b[0mcreate_bins\u001b[0m\u001b[0;34m(\u001b[0m\u001b[0mglass_train_df\u001b[0m\u001b[0;34m,\u001b[0m\u001b[0mnobins\u001b[0m\u001b[0;34m=\u001b[0m\u001b[0;36m10\u001b[0m\u001b[0;34m,\u001b[0m\u001b[0mbintype\u001b[0m\u001b[0;34m=\u001b[0m\u001b[0;34m\"equal-size\"\u001b[0m\u001b[0;34m)\u001b[0m\u001b[0;34m\u001b[0m\u001b[0;34m\u001b[0m\u001b[0m\n\u001b[0m\u001b[1;32m      8\u001b[0m \u001b[0;34m\u001b[0m\u001b[0m\n\u001b[1;32m      9\u001b[0m \u001b[0mprint\u001b[0m\u001b[0;34m(\u001b[0m\u001b[0;34m\"binning:\"\u001b[0m\u001b[0;34m)\u001b[0m\u001b[0;34m\u001b[0m\u001b[0;34m\u001b[0m\u001b[0m\n",
      "\u001b[0;32m<ipython-input-60-0a8c44ec7a16>\u001b[0m in \u001b[0;36mcreate_bins\u001b[0;34m(df, bintype, nobins)\u001b[0m\n\u001b[1;32m     18\u001b[0m \u001b[0;34m\u001b[0m\u001b[0m\n\u001b[1;32m     19\u001b[0m                 \u001b[0;32melse\u001b[0m\u001b[0;34m:\u001b[0m\u001b[0;34m\u001b[0m\u001b[0;34m\u001b[0m\u001b[0m\n\u001b[0;32m---> 20\u001b[0;31m                     \u001b[0mbinned_df\u001b[0m\u001b[0;34m[\u001b[0m\u001b[0mcol\u001b[0m\u001b[0;34m]\u001b[0m\u001b[0;34m,\u001b[0m \u001b[0mbins\u001b[0m \u001b[0;34m=\u001b[0m \u001b[0mpd\u001b[0m\u001b[0;34m.\u001b[0m\u001b[0mqcut\u001b[0m\u001b[0;34m(\u001b[0m\u001b[0mbinned_df\u001b[0m\u001b[0;34m[\u001b[0m\u001b[0mcol\u001b[0m\u001b[0;34m]\u001b[0m\u001b[0;34m,\u001b[0m\u001b[0mnobins\u001b[0m\u001b[0;34m,\u001b[0m\u001b[0mretbins\u001b[0m\u001b[0;34m=\u001b[0m\u001b[0;32mTrue\u001b[0m\u001b[0;34m,\u001b[0m \u001b[0mlabels\u001b[0m\u001b[0;34m=\u001b[0m\u001b[0mlabels\u001b[0m\u001b[0;34m)\u001b[0m\u001b[0;34m\u001b[0m\u001b[0;34m\u001b[0m\u001b[0m\n\u001b[0m\u001b[1;32m     21\u001b[0m                     \u001b[0mbinned_df\u001b[0m\u001b[0;34m[\u001b[0m\u001b[0mcol\u001b[0m\u001b[0;34m]\u001b[0m \u001b[0;34m=\u001b[0m \u001b[0mbinned_df\u001b[0m\u001b[0;34m[\u001b[0m\u001b[0mcol\u001b[0m\u001b[0;34m]\u001b[0m\u001b[0;34m.\u001b[0m\u001b[0mastype\u001b[0m\u001b[0;34m(\u001b[0m\u001b[0;34m'category'\u001b[0m\u001b[0;34m)\u001b[0m\u001b[0;34m\u001b[0m\u001b[0;34m\u001b[0m\u001b[0m\n\u001b[1;32m     22\u001b[0m                     \u001b[0mbinning\u001b[0m\u001b[0;34m[\u001b[0m\u001b[0mcol\u001b[0m\u001b[0;34m]\u001b[0m \u001b[0;34m=\u001b[0m \u001b[0mbins\u001b[0m\u001b[0;34m\u001b[0m\u001b[0;34m\u001b[0m\u001b[0m\n",
      "\u001b[0;32m~/Documents/Code/ML-labs/bayes/venv/lib/python3.8/site-packages/pandas/core/reshape/tile.py\u001b[0m in \u001b[0;36mqcut\u001b[0;34m(x, q, labels, retbins, precision, duplicates)\u001b[0m\n\u001b[1;32m    358\u001b[0m         \u001b[0mquantiles\u001b[0m \u001b[0;34m=\u001b[0m \u001b[0mq\u001b[0m\u001b[0;34m\u001b[0m\u001b[0;34m\u001b[0m\u001b[0m\n\u001b[1;32m    359\u001b[0m     \u001b[0mbins\u001b[0m \u001b[0;34m=\u001b[0m \u001b[0malgos\u001b[0m\u001b[0;34m.\u001b[0m\u001b[0mquantile\u001b[0m\u001b[0;34m(\u001b[0m\u001b[0mx\u001b[0m\u001b[0;34m,\u001b[0m \u001b[0mquantiles\u001b[0m\u001b[0;34m)\u001b[0m\u001b[0;34m\u001b[0m\u001b[0;34m\u001b[0m\u001b[0m\n\u001b[0;32m--> 360\u001b[0;31m     fac, bins = _bins_to_cuts(\n\u001b[0m\u001b[1;32m    361\u001b[0m         \u001b[0mx\u001b[0m\u001b[0;34m,\u001b[0m\u001b[0;34m\u001b[0m\u001b[0;34m\u001b[0m\u001b[0m\n\u001b[1;32m    362\u001b[0m         \u001b[0mbins\u001b[0m\u001b[0;34m,\u001b[0m\u001b[0;34m\u001b[0m\u001b[0;34m\u001b[0m\u001b[0m\n",
      "\u001b[0;32m~/Documents/Code/ML-labs/bayes/venv/lib/python3.8/site-packages/pandas/core/reshape/tile.py\u001b[0m in \u001b[0;36m_bins_to_cuts\u001b[0;34m(x, bins, right, labels, precision, include_lowest, dtype, duplicates, ordered)\u001b[0m\n\u001b[1;32m    399\u001b[0m     \u001b[0;32mif\u001b[0m \u001b[0mlen\u001b[0m\u001b[0;34m(\u001b[0m\u001b[0munique_bins\u001b[0m\u001b[0;34m)\u001b[0m \u001b[0;34m<\u001b[0m \u001b[0mlen\u001b[0m\u001b[0;34m(\u001b[0m\u001b[0mbins\u001b[0m\u001b[0;34m)\u001b[0m \u001b[0;32mand\u001b[0m \u001b[0mlen\u001b[0m\u001b[0;34m(\u001b[0m\u001b[0mbins\u001b[0m\u001b[0;34m)\u001b[0m \u001b[0;34m!=\u001b[0m \u001b[0;36m2\u001b[0m\u001b[0;34m:\u001b[0m\u001b[0;34m\u001b[0m\u001b[0;34m\u001b[0m\u001b[0m\n\u001b[1;32m    400\u001b[0m         \u001b[0;32mif\u001b[0m \u001b[0mduplicates\u001b[0m \u001b[0;34m==\u001b[0m \u001b[0;34m\"raise\"\u001b[0m\u001b[0;34m:\u001b[0m\u001b[0;34m\u001b[0m\u001b[0;34m\u001b[0m\u001b[0m\n\u001b[0;32m--> 401\u001b[0;31m             raise ValueError(\n\u001b[0m\u001b[1;32m    402\u001b[0m                 \u001b[0;34mf\"Bin edges must be unique: {repr(bins)}.\\n\"\u001b[0m\u001b[0;34m\u001b[0m\u001b[0;34m\u001b[0m\u001b[0m\n\u001b[1;32m    403\u001b[0m                 \u001b[0;34mf\"You can drop duplicate edges by setting the 'duplicates' kwarg\"\u001b[0m\u001b[0;34m\u001b[0m\u001b[0;34m\u001b[0m\u001b[0m\n",
      "\u001b[0;31mValueError\u001b[0m: Bin edges must be unique: array([0.   , 0.   , 0.   , 1.82 , 3.188, 3.41 , 3.476, 3.55 , 3.61 ,\n       3.728, 4.49 ]).\nYou can drop duplicate edges by setting the 'duplicates' kwarg"
     ]
    }
   ],
   "source": [
    "# Test your code  (leave this part unchanged)\n",
    "\n",
    "glass_train_df = pd.read_csv(\"glass_train.csv\")\n",
    "\n",
    "glass_test_df = pd.read_csv(\"glass_test.csv\")\n",
    "\n",
    "glass_train_disc, binning = create_bins(glass_train_df,nobins=10,bintype=\"equal-size\")\n",
    "\n",
    "print(\"binning:\")\n",
    "for f in binning:\n",
    "    print(\"{}:{}\".format(f,binning[f]))\n",
    "\n",
    "print()    \n",
    "glass_test_disc = apply_bins(glass_test_df,binning)\n",
    "display(\"glass_test_disc\",glass_test_disc)"
   ]
  },
  {
   "cell_type": "markdown",
   "metadata": {},
   "source": [
    "### Comment on assumptions, things that do not work properly, etc."
   ]
  },
  {
   "cell_type": "markdown",
   "metadata": {},
   "source": [
    "## 1e. Create and apply one-hot encoding"
   ]
  },
  {
   "cell_type": "code",
   "execution_count": 62,
   "metadata": {},
   "outputs": [],
   "source": [
    "# Insert the functions create_one_hot and apply_one_hot below\n",
    "#\n",
    "# Input to create_one_hot:\n",
    "# df: a dataframe\n",
    "#\n",
    "# Output from create_one_hot:\n",
    "# df      - a new dataframe, where each categoric feature has been replaced by a set of binary features \n",
    "#           (as many new features as there are possible values)\n",
    "# one_hot - a mapping (dictionary) from column name to a set of categories (possible values for the feature)\n",
    "#\n",
    "# Hint 1: First copy the input dataframe and modify the copy (the input dataframe should be kept unchanged)\n",
    "#\n",
    "# Hint 2: Consider columns of type \"object\" or \"category\" only (and which are not labeled \"CLASS\" or \"ID\")\n",
    "#\n",
    "# Hint 3: Consider creating new column names by merging the original column name and the categorical value\n",
    "#\n",
    "# Hint 4: Set all new columns to be of type \"float\"\n",
    "#\n",
    "# Hint 5: Do not forget to remove the original categoric feature\n",
    "#\n",
    "# Input to apply_one_hot:\n",
    "# df      - a dataframe\n",
    "# one_hot - a mapping (dictionary) from column name to categories\n",
    "#\n",
    "# Output from apply_one_hot:\n",
    "# df - a new dataframe, where each categoric feature has been replaced by a set of binary features\n",
    "#\n",
    "# Hint: See the above Hints\n",
    "\n"
   ]
  },
  {
   "cell_type": "code",
   "execution_count": 64,
   "metadata": {},
   "outputs": [
    {
     "ename": "SyntaxError",
     "evalue": "invalid syntax (<ipython-input-64-9bbda4f67dd4>, line 21)",
     "output_type": "error",
     "traceback": [
      "\u001b[0;36m  File \u001b[0;32m\"<ipython-input-64-9bbda4f67dd4>\"\u001b[0;36m, line \u001b[0;32m21\u001b[0m\n\u001b[0;31m    for\u001b[0m\n\u001b[0m        ^\u001b[0m\n\u001b[0;31mSyntaxError\u001b[0m\u001b[0;31m:\u001b[0m invalid syntax\n"
     ]
    }
   ],
   "source": [
    "def create_one_hot(df): \n",
    "    encoded_df = df.copy()\n",
    "    exempt = [\"ID\", \"CLASS\"]\n",
    "    one_hot = {col: [] for col in encoded_df.columns if col not in exempt}\n",
    "    for col in encoded_df.columns: \n",
    "        if col not in exempt: \n",
    "            if encoded_df[col].dtype == \"object\" or encoded_df[col].dtype == \"category\":  \n",
    "                encoded_df[col] = encoded_df[col].astype(\"category\")\n",
    "                one_hot[col] = list(encoded_df[col].cat.categories)\n",
    "                for i in one_hot[col]:\n",
    "                    col_name = col + '_' + str(i)\n",
    "                    col_enc = encoded_df[col] == i\n",
    "                    col_enc = col_enc.astype(\"int\")\n",
    "                    encoded_df[col_name] = col_enc\n",
    "                encoded_df = encoded_df.drop(axis=1, columns=col)\n",
    "    return encoded_df, one_hot\n",
    "\n",
    "\n",
    "def apply_one_hot(df, one_hot):\n",
    "    encoded_df = df.copy()\n",
    "    for i in for i in one_hot[col]:\n",
    "    return encoded_df \n"
   ]
  },
  {
   "cell_type": "code",
   "execution_count": 379,
   "metadata": {},
   "outputs": [
    {
     "ename": "NameError",
     "evalue": "name 'apply_one_hot' is not defined",
     "output_type": "error",
     "traceback": [
      "\u001b[0;31m---------------------------------------------------------------------------\u001b[0m",
      "\u001b[0;31mNameError\u001b[0m                                 Traceback (most recent call last)",
      "\u001b[0;32m<ipython-input-379-57f73f94d3da>\u001b[0m in \u001b[0;36m<module>\u001b[0;34m\u001b[0m\n\u001b[1;32m      7\u001b[0m \u001b[0mtest_df\u001b[0m \u001b[0;34m=\u001b[0m \u001b[0mpd\u001b[0m\u001b[0;34m.\u001b[0m\u001b[0mread_csv\u001b[0m\u001b[0;34m(\u001b[0m\u001b[0;34m\"tic-tac-toe_test.csv\"\u001b[0m\u001b[0;34m)\u001b[0m\u001b[0;34m\u001b[0m\u001b[0;34m\u001b[0m\u001b[0m\n\u001b[1;32m      8\u001b[0m \u001b[0;34m\u001b[0m\u001b[0m\n\u001b[0;32m----> 9\u001b[0;31m \u001b[0mnew_test_df\u001b[0m \u001b[0;34m=\u001b[0m \u001b[0mapply_one_hot\u001b[0m\u001b[0;34m(\u001b[0m\u001b[0mtest_df\u001b[0m\u001b[0;34m,\u001b[0m\u001b[0mone_hot\u001b[0m\u001b[0;34m)\u001b[0m\u001b[0;34m\u001b[0m\u001b[0;34m\u001b[0m\u001b[0m\n\u001b[0m\u001b[1;32m     10\u001b[0m \u001b[0mdisplay\u001b[0m\u001b[0;34m(\u001b[0m\u001b[0;34m\"new_test_df\"\u001b[0m\u001b[0;34m,\u001b[0m\u001b[0mnew_test_df\u001b[0m\u001b[0;34m)\u001b[0m\u001b[0;34m\u001b[0m\u001b[0;34m\u001b[0m\u001b[0m\n",
      "\u001b[0;31mNameError\u001b[0m: name 'apply_one_hot' is not defined"
     ]
    }
   ],
   "source": [
    "# Test your code  (leave this part unchanged)\n",
    "\n",
    "train_df = pd.read_csv(\"tic-tac-toe_train.csv\")\n",
    "\n",
    "new_train, one_hot = create_one_hot(train_df)\n",
    "\n",
    "test_df = pd.read_csv(\"tic-tac-toe_test.csv\")\n",
    "\n",
    "new_test_df = apply_one_hot(test_df,one_hot)\n",
    "display(\"new_test_df\",new_test_df)"
   ]
  },
  {
   "cell_type": "code",
   "execution_count": null,
   "metadata": {},
   "outputs": [],
   "source": []
  },
  {
   "cell_type": "markdown",
   "metadata": {},
   "source": [
    "### Comment on assumptions, things that do not work properly, etc."
   ]
  },
  {
   "cell_type": "markdown",
   "metadata": {},
   "source": [
    "## 1f. Divide a dataset into a training and a test set"
   ]
  },
  {
   "cell_type": "code",
   "execution_count": 12,
   "metadata": {},
   "outputs": [],
   "source": [
    "# Insert the function split below\n",
    "#\n",
    "# Input to split:\n",
    "# df           - a dataframe\n",
    "# testfraction - a float in the range (0,1) (default = 0.5)\n",
    "#\n",
    "# Output from split:\n",
    "# trainingdf - a dataframe consisting of a random sample of (1-testfraction) of the rows in df\n",
    "# testdf     - a dataframe consisting of the rows in df that are not included in trainingdf\n",
    "#\n",
    "# Hint: You may use np.random.permutation(df.index) to get a permuted list of indexes where a \n",
    "#       prefix corresponds to the test instances, and the suffix to the training instances \n",
    "\n"
   ]
  },
  {
   "cell_type": "code",
   "execution_count": 65,
   "metadata": {},
   "outputs": [],
   "source": [
    "def split(df, testfraction = 0.5): \n",
    "    df_length = len(df)\n",
    "    cut_off = df_length * testfraction\n",
    "    cut_off = int(cut_off)\n",
    "    indexes = np.random.permutation(df.index)\n",
    "    test_indexes = indexes[0:cut_off]\n",
    "    training_indexes = indexes[cut_off:]\n",
    "    trainingdf = df.iloc[training_indexes, :]\n",
    "    testdf = df.iloc[test_indexes, :]\n",
    "    return trainingdf, testdf\n",
    "\n"
   ]
  },
  {
   "cell_type": "code",
   "execution_count": 67,
   "metadata": {},
   "outputs": [
    {
     "name": "stdout",
     "output_type": "stream",
     "text": "161\n53\nTraining IDs:\n[ 73 103 147 126  56 196  99 204   2 191 190  54  96 118  37 173  83 167\n 104 111  18 114  85 185 129 208 117 162  14 197 141 160  28  92  40   4\n 174  38 155  94  25  64  90 214 164 119 143  24 146  58 210  87 184  19\n  76 139  81  32 156  11  95  51  98 134  23   6 168  21 205 177 198  45\n  43  52 142 212   9 153  84 202  53  62 136  79 170 163  17  50 110 138\n 179 176 151  34 180  48  66 106 187 159 137 157   7  82 169  57  60  89\n 108  88 182 115 148 140 181  72 172 158  49 123   1  46 209  39  71  47\n  29 133 201  86 154  97 192 206 125 211  78 121 161 193 128 178  59  42\n  41 150 130 127 195  31  74 175 109 189  44   3 213  93 188  10 132]\n\nTest IDs:\n[ 16   5  55 166  70 107 200  26 199  63  12  35 144 186 105 124 116 165\n  27 101 203 152  68  30  33  80  61 135  91 113  75 120  20  13 102 171\n 149 122 194  77   8  65  22 112 145 100  36  69  15  67 183 207 131]\n\nOverlap: set()\n"
    }
   ],
   "source": [
    "# Test your code  (leave this part unchanged)\n",
    "\n",
    "glass_df = pd.read_csv(\"glass.csv\")\n",
    "\n",
    "glass_train, glass_test = split(glass_df,testfraction=0.25)\n",
    "\n",
    "print(\"Training IDs:\\n{}\".format(glass_train[\"ID\"].values))\n",
    "\n",
    "print(\"\\nTest IDs:\\n{}\".format(glass_test[\"ID\"].values))\n",
    "\n",
    "print(\"\\nOverlap: {}\".format(set(glass_train[\"ID\"]).intersection(set(glass_test[\"ID\"]))))"
   ]
  },
  {
   "cell_type": "markdown",
   "metadata": {},
   "source": [
    "### Comment on assumptions, things that do not work properly, etc."
   ]
  },
  {
   "cell_type": "markdown",
   "metadata": {},
   "source": [
    "## 1g. Calculate accuracy of a set of predictions"
   ]
  },
  {
   "cell_type": "code",
   "execution_count": 68,
   "metadata": {},
   "outputs": [],
   "source": [
    "# Insert the function accuracy below\n",
    "#\n",
    "# Input to accuracy:\n",
    "# df            - a dataframe with class labels as column names and each row corresponding to\n",
    "#                 a prediction with estimated probabilities for each class\n",
    "# correctlabels - an array (or list) of the correct class label for each prediction\n",
    "#                 (the number of correct labels must equal the number of rows in df)\n",
    "#\n",
    "# Output from accuracy:\n",
    "# accuracy - the fraction of cases for which the predicted class label coincides with the correct label\n",
    "#\n",
    "# Hint: In case the label receiving the highest probability is not unique, you may\n",
    "#       resolve that by picking the first (as ordered by the column names) or \n",
    "#       by randomly selecting one of the labels with highest probaility.\n",
    "\n"
   ]
  },
  {
   "cell_type": "code",
   "execution_count": 72,
   "metadata": {},
   "outputs": [],
   "source": [
    "def accuracy(df, correctlabels): \n",
    "    n = len(df)\n",
    "    correct = 0\n",
    "    for i in df.index: \n",
    "        prediction = df.iloc[i,:].idxmax(skipna=True)\n",
    "        correctlabel = correctlabels[i]\n",
    "        if correctlabel == prediction: \n",
    "            correct += 1\n",
    "    return correct / n\n"
   ]
  },
  {
   "cell_type": "code",
   "execution_count": 74,
   "metadata": {},
   "outputs": [
    {
     "data": {
      "text/plain": "'predictions'"
     },
     "metadata": {},
     "output_type": "display_data"
    },
    {
     "data": {
      "text/html": "<div>\n<style scoped>\n    .dataframe tbody tr th:only-of-type {\n        vertical-align: middle;\n    }\n\n    .dataframe tbody tr th {\n        vertical-align: top;\n    }\n\n    .dataframe thead th {\n        text-align: right;\n    }\n</style>\n<table border=\"1\" class=\"dataframe\">\n  <thead>\n    <tr style=\"text-align: right;\">\n      <th></th>\n      <th>A</th>\n      <th>B</th>\n      <th>C</th>\n    </tr>\n  </thead>\n  <tbody>\n    <tr>\n      <th>0</th>\n      <td>0.50</td>\n      <td>0.50</td>\n      <td>0.00</td>\n    </tr>\n    <tr>\n      <th>1</th>\n      <td>0.50</td>\n      <td>0.25</td>\n      <td>0.25</td>\n    </tr>\n    <tr>\n      <th>2</th>\n      <td>0.50</td>\n      <td>0.25</td>\n      <td>0.25</td>\n    </tr>\n    <tr>\n      <th>3</th>\n      <td>0.25</td>\n      <td>0.50</td>\n      <td>0.25</td>\n    </tr>\n    <tr>\n      <th>4</th>\n      <td>0.25</td>\n      <td>0.25</td>\n      <td>0.50</td>\n    </tr>\n  </tbody>\n</table>\n</div>",
      "text/plain": "      A     B     C\n0  0.50  0.50  0.00\n1  0.50  0.25  0.25\n2  0.50  0.25  0.25\n3  0.25  0.50  0.25\n4  0.25  0.25  0.50"
     },
     "metadata": {},
     "output_type": "display_data"
    }
   ],
   "source": [
    "# Test your code  (leave this part unchanged)\n",
    "\n",
    "predictions = pd.DataFrame({\"A\":[0.5,0.5,0.5,0.25,0.25],\"B\":[0.5,0.25,0.25,0.5,0.25],\"C\":[0.0,0.25,0.25,0.25,0.5]})\n",
    "display(\"predictions\",predictions)"
   ]
  },
  {
   "cell_type": "code",
   "execution_count": 75,
   "metadata": {},
   "outputs": [
    {
     "name": "stdout",
     "output_type": "stream",
     "text": "Accuracy: 0.6\n"
    }
   ],
   "source": [
    "correctlabels = [\"B\",\"A\",\"B\",\"B\",\"C\"]\n",
    "\n",
    "print(\"Accuracy: {}\".format(accuracy(predictions,correctlabels))) # Note that depending on how ties are resolved the accuracy may be 0.6 or 0.8"
   ]
  },
  {
   "cell_type": "markdown",
   "metadata": {},
   "source": [
    "### Comment on assumptions, things that do not work properly, etc."
   ]
  },
  {
   "cell_type": "markdown",
   "metadata": {},
   "source": [
    "## 2a. Divide a dataset into a number of folds"
   ]
  },
  {
   "cell_type": "code",
   "execution_count": 17,
   "metadata": {},
   "outputs": [],
   "source": [
    "# Insert the function folds below\n",
    "#\n",
    "# Input to folds:\n",
    "# df      - a dataframe\n",
    "# nofolds - an integer greater than 1 (default = 10)\n",
    "#\n",
    "# Output from folds:\n",
    "# folds - a list (of length = nofolds) dataframes consisting of random non-overlapping, \n",
    "#         approximately equal-sized subsets of the rows in df\n",
    "#\n",
    "# Hint: You may use np.random.permutation(df.index) to get a permuted list of indexes from which a \n",
    "#       prefix corresponds to the test instances, and the suffix to the training instances \n",
    "\n"
   ]
  },
  {
   "cell_type": "code",
   "execution_count": 76,
   "metadata": {},
   "outputs": [],
   "source": [
    "def folds(df, nofolds=10):\n",
    "    length = len(df)\n",
    "    fold_size = length / nofolds\n",
    "    current_index = int(0)\n",
    "    folds = []\n",
    "    indexes = np.random.permutation(df.index)\n",
    "    for f in range(0,nofolds):\n",
    "        if f == nofolds - 1: \n",
    "            end_index = length\n",
    "        else: \n",
    "            end_index = int(current_index + fold_size)\n",
    "            \n",
    "        subset = indexes[current_index:end_index]\n",
    "        current_index = int(current_index + fold_size)\n",
    "        fold = df.iloc[subset]\n",
    "        folds.append(fold)\n",
    "    return folds \n"
   ]
  },
  {
   "cell_type": "code",
   "execution_count": 77,
   "metadata": {},
   "outputs": [
    {
     "name": "stdout",
     "output_type": "stream",
     "text": "Fold sizes:[21, 21, 21, 21, 21, 21, 21, 21, 21, 25]\nTotal no. instances: 214\n"
    }
   ],
   "source": [
    "# Test your code  (leave this part unchanged)\n",
    "\n",
    "glass_df = pd.read_csv(\"glass.csv\")\n",
    "\n",
    "glass_folds = folds(glass_df,nofolds=10)\n",
    "\n",
    "fold_sizes = [len(f) for f in glass_folds]\n",
    "\n",
    "print(\"Fold sizes:{}\\nTotal no. instances: {}\".format(fold_sizes,sum(fold_sizes)))"
   ]
  },
  {
   "cell_type": "markdown",
   "metadata": {},
   "source": [
    "### Comment on assumptions, things that do not work properly, etc."
   ]
  },
  {
   "cell_type": "markdown",
   "metadata": {},
   "source": [
    "## 2b. Calculate Brier score of a set of predictions"
   ]
  },
  {
   "cell_type": "code",
   "execution_count": 19,
   "metadata": {},
   "outputs": [],
   "source": [
    "# Insert the function brier_score below\n",
    "#\n",
    "# Input to brier_score:\n",
    "# df            - a dataframe with class labels as column names and each row corresponding to\n",
    "#                 a prediction with estimated probabilities for each class\n",
    "# correctlabels - an array (or list) of the correct class label for each prediction\n",
    "#                 (the number of correct labels must equal the number of rows in df)\n",
    "#\n",
    "# Output from brier_score:\n",
    "# brier_score - the average square error of the predicted probabilties \n",
    "#\n",
    "# Hint: Compare each predicted vector to a vector for each correct label, which is all zeros except \n",
    "#       for at the index of the correct class. The index can be found using np.where(df.columns==l)[0] \n",
    "#       where l is the correct label.\n",
    "\n"
   ]
  },
  {
   "cell_type": "code",
   "execution_count": 78,
   "metadata": {},
   "outputs": [],
   "source": [
    "def brier_score(df, correctlabels): \n",
    "    correct_labels = pd.get_dummies(correctlabels)\n",
    "    brier_score = np.mean(np.sum((df - correct_labels)**2, axis=1))\n",
    "    return brier_score\n"
   ]
  },
  {
   "cell_type": "code",
   "execution_count": 79,
   "metadata": {},
   "outputs": [
    {
     "name": "stdout",
     "output_type": "stream",
     "text": "Brier score: 0.5\n"
    }
   ],
   "source": [
    "# Test your code  (leave this part unchanged)\n",
    "\n",
    "predictions = pd.DataFrame({\"A\":[0.5,0.5,0.5,0.25,0.25],\"B\":[0.5,0.25,0.25,0.5,0.25],\"C\":[0.0,0.25,0.25,0.25,0.5]})\n",
    "\n",
    "correctlabels = [\"B\",\"A\",\"B\",\"B\",\"C\"]\n",
    "\n",
    "print(\"Brier score: {}\".format(brier_score(predictions,correctlabels)))"
   ]
  },
  {
   "cell_type": "markdown",
   "metadata": {},
   "source": [
    "### Comment on assumptions, things that do not work properly, etc."
   ]
  },
  {
   "cell_type": "markdown",
   "metadata": {},
   "source": [
    "## 2c. Calculate AUC of a set of predictions"
   ]
  },
  {
   "cell_type": "code",
   "execution_count": 21,
   "metadata": {},
   "outputs": [],
   "source": [
    "# Insert the function auc below\n",
    "#\n",
    "# Input to auc:\n",
    "# df            - a dataframe with class labels as column names and each row corresponding to\n",
    "#                 a prediction with estimated probabilities for each class\n",
    "# correctlabels - an array (or list) of the correct class label for each prediction\n",
    "#                 (the number of correct labels must equal the number of rows in df)\n",
    "#\n",
    "# Output from auc:\n",
    "# auc - the weighted area under ROC curve\n",
    "#\n",
    "# Hint 1: Calculate the binary AUC first for each class label c, i.e., treating the\n",
    "#         predicted probability of this class for each instance as a score; the true positives\n",
    "#         are the ones belonging to class c and the false positives the rest\n",
    "#\n",
    "# Hint 2: When calculating the binary AUC, first find the scores of the true positives and then\n",
    "#         the scores of the true negatives\n",
    "#\n",
    "# Hint 3: You may use a dictionary with a mapping from each score to an array of two numbers; \n",
    "#         the number of true positives with this score and the number of true negatives with this score\n",
    "#\n",
    "# Hint 4: Created a (reversely) sorted (on the scores) list of pairs from the dictionary and\n",
    "#         iterate over this to additively calculate the AUC\n",
    "#\n",
    "# Hint 5: For each pair in the above list, there are three cases to consider; the no. of false positives\n",
    "#         is zero, the no. of true positives is zero, and both are non-zero\n",
    "#\n",
    "# Hint 6: Calculate the weighted AUC by summing the individual AUCs weighted by the relative\n",
    "#         frequency of each class (as estimated from the correct labels)\n",
    "\n"
   ]
  },
  {
   "cell_type": "code",
   "execution_count": 178,
   "metadata": {},
   "outputs": [],
   "source": [
    "def find_scores(col, col_name, correctlabels): \n",
    "    pos_filter = [col_name == label for label in correctlabels]\n",
    "    neg_filter = [col_name != label for label in correctlabels]\n",
    "    pos_scores = col[pos_filter]\n",
    "    neg_scores = col[neg_filter]\n",
    "    return pos_scores, neg_scores\n",
    "\n",
    "def tpr_fpr(col, col_name, correctlabels): \n",
    "    pos_scores, neg_scores = find_scores(col, col_name, correctlabels)\n",
    "    #need to add 0 and 1 to scores to create the full scale\n",
    "    score_dict = {}\n",
    "    scores = []\n",
    "    sorted_scores = sorted(pos_scores)\n",
    "    scores += sorted_scores\n",
    "    #scores += [1]\n",
    "    total_tp = 0 \n",
    "    total_fp = 0\n",
    "\n",
    "    for score in scores:\n",
    "        #true postives\n",
    "        if len(pos_scores) == 0: \n",
    "            tp_count = 0\n",
    "        else: \n",
    "            tp_count = np.sum(pos_scores >= score)/len(pos_scores)\n",
    "\n",
    "        #false positives\n",
    "        if len(neg_scores) == 0: \n",
    "            fp_count = 0\n",
    "        else: \n",
    "            fp_count = np.sum(neg_scores >= score)/len(neg_scores)\n",
    "\n",
    "        total_tp += tp_count\n",
    "        total_fp += fp_count\n",
    "        score_dict[score] = [tp_count, fp_count]\n",
    "        print(score_dict)\n",
    "    return score_dict, total_tp, total_fp\n",
    "\n",
    "def calculate_auc(score_dict, total_tp, total_fp): \n",
    "    score_list = [list(score) for score in reversed(score_dict.values())]\n",
    "    print(score_list)\n",
    "    n = len(score_list)\n",
    "    auc = 0\n",
    "    seen_tp = 0\n",
    "    for i in range(0,n): \n",
    "        score = score_list[i]\n",
    "        if(score[1] == 0): \n",
    "            #increase up the y-axis\n",
    "            seen_tp += score[0]\n",
    "            #print(seen_tp)\n",
    "        elif(score[0] == 0):\n",
    "            #have rectangle to calculate\n",
    "            auc += (seen_tp/total_tp)*(score[1]/total_fp)\n",
    "        else: \n",
    "            auc += (seen_tp/total_tp)*(score[1]/total_fp) + (score[0]/total_tp)*(score[1]/total_fp)/2\n",
    "            seen_tp += score[0]\n",
    "    return auc\n",
    "\n",
    "\n",
    "def auc(df, correctlabels):\n",
    "    auc = 0\n",
    "    frequency = dict(pd.Series(correctlabels).value_counts(normalize = True)) \n",
    "    for col in df.columns :\n",
    "        score_dict, total_tp, total_fp = tpr_fpr(df[col], col, correctlabels)    \n",
    "        class_auc = calculate_auc(score_dict, total_tp, total_fp)\n",
    "        print(total_tp)\n",
    "        print(total_fp)\n",
    "        auc += class_auc * frequency[col]\n",
    "    return auc    "
   ]
  },
  {
   "cell_type": "code",
   "execution_count": 179,
   "metadata": {},
   "outputs": [
    {
     "name": "stdout",
     "output_type": "stream",
     "text": "{0.55: [1.0, 1.0]}\n{0.55: [1.0, 1.0], 0.9: [0.5, 0.5]}\n[[0.5, 0.5], [1.0, 1.0]]\n1.5\n1.5\n{0.1: [1.0, 1.0]}\n{0.1: [1.0, 1.0], 0.4: [0.5, 0.5]}\n[[0.5, 0.5], [1.0, 1.0]]\n1.5\n1.5\nAUC: 0.5\n"
    }
   ],
   "source": [
    "# Test your code  (leave this part unchanged)\n",
    "\n",
    "predictions = pd.DataFrame({\"A\":[0.9,0.9,0.6,0.55],\"B\":[0.1,0.1,0.4,0.45]})\n",
    "\n",
    "correctlabels = [\"A\",\"B\",\"B\",\"A\"]\n",
    "\n",
    "print(\"AUC: {}\".format(auc(predictions,correctlabels)))"
   ]
  },
  {
   "cell_type": "code",
   "execution_count": 180,
   "metadata": {},
   "outputs": [
    {
     "name": "stdout",
     "output_type": "stream",
     "text": "{0.5: [1.0, 0.5]}\n[[1.0, 0.5]]\n1.0\n0.5\n{0.25: [1.0, 1.0]}\n{0.25: [1.0, 1.0], 0.5: [0.6666666666666666, 0.0]}\n{0.25: [1.0, 1.0], 0.5: [0.6666666666666666, 0.0]}\n[[0.6666666666666666, 0.0], [1.0, 1.0]]\n2.333333333333333\n1.0\n{0.5: [1.0, 0.0]}\n[[1.0, 0.0]]\n1.0\n0.0\nAUC: 0.4\n"
    }
   ],
   "source": [
    "predictions = pd.DataFrame({\"A\":[0.5,0.5,0.5,0.25,0.25],\"B\":[0.5,0.25,0.25,0.5,0.25],\"C\":[0.0,0.25,0.25,0.25,0.5]})\n",
    "\n",
    "correctlabels = [\"B\",\"A\",\"B\",\"B\",\"C\"]\n",
    "\n",
    "print(\"AUC: {}\".format(auc(predictions,correctlabels)))"
   ]
  },
  {
   "cell_type": "markdown",
   "metadata": {},
   "source": [
    "### Comment on assumptions, things that do not work properly, etc."
   ]
  }
 ],
 "metadata": {
  "kernelspec": {
   "display_name": "Python 3",
   "language": "python",
   "name": "python3"
  },
  "language_info": {
   "codemirror_mode": {
    "name": "ipython",
    "version": 3
   },
   "file_extension": ".py",
   "mimetype": "text/x-python",
   "name": "python",
   "nbconvert_exporter": "python",
   "pygments_lexer": "ipython3",
   "version": "3.8.5-final"
  }
 },
 "nbformat": 4,
 "nbformat_minor": 4
}